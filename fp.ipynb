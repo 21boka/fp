{
 "cells": [
  {
   "cell_type": "code",
   "execution_count": 19,
   "id": "8ea0a40e-26f3-4602-b770-bb850bfbb49b",
   "metadata": {},
   "outputs": [],
   "source": [
    "# ASSIGHNMENT1"
   ]
  },
  {
   "cell_type": "code",
   "execution_count": 13,
   "id": "284a7347-ecb6-4eed-9af8-a8801a7ba05e",
   "metadata": {},
   "outputs": [
    {
     "name": "stdout",
     "output_type": "stream",
     "text": [
      "[1, 2, 3, 4, 5, 8]\n"
     ]
    }
   ],
   "source": [
    "a=[1,2,3,2,4,5,8]\n",
    "b=[1,2,3,2,4,5,8,9,9,9]\n",
    "comonn=list(set(a)&set(b))\n",
    "print(comonn)"
   ]
  },
  {
   "cell_type": "code",
   "execution_count": 16,
   "id": "f0e0959d-ac9d-446c-9059-e93bff433160",
   "metadata": {},
   "outputs": [
    {
     "name": "stdin",
     "output_type": "stream",
     "text": [
      "---->  1 2 2 3 3 4\n"
     ]
    },
    {
     "name": "stdout",
     "output_type": "stream",
     "text": [
      "[2, 3]\n"
     ]
    }
   ],
   "source": [
    "def find_dublicate(lst):\n",
    "    return list(set([x for x in lst if lst.count(x)>1]))\n",
    "\n",
    "\n",
    "lst=list(map(int,input(\"----> \").split()))\n",
    "print(find_dublicate(lst))"
   ]
  },
  {
   "cell_type": "code",
   "execution_count": 17,
   "id": "b17870e4-fb4f-4182-8a6c-864375d95886",
   "metadata": {},
   "outputs": [
    {
     "name": "stdin",
     "output_type": "stream",
     "text": [
      "---->  1 2 3\n"
     ]
    },
    {
     "name": "stdout",
     "output_type": "stream",
     "text": [
      "[1, 4, 9]\n"
     ]
    }
   ],
   "source": [
    "lst=list(map(int,input(\"----> \").split()))\n",
    "sq=list(map(lambda x: x**2,lst))\n",
    "\n",
    "print(sq)"
   ]
  },
  {
   "cell_type": "code",
   "execution_count": 18,
   "id": "ab614839-5195-41e8-b7f2-c37e743ee010",
   "metadata": {},
   "outputs": [
    {
     "name": "stdout",
     "output_type": "stream",
     "text": [
      "Triangle Area: 25.0\n",
      "Rectangle Area: 32\n",
      "Circle Area: 153.93804002589985\n",
      "Cone Area: 75.39822368615503\n"
     ]
    }
   ],
   "source": [
    "# shape.py\n",
    "\n",
    "# import math\n",
    "\n",
    "# def area_triangle(base, height):\n",
    "#     return 0.5 * base * height\n",
    "\n",
    "# def area_rectangle(length, width):\n",
    "#     return length * width\n",
    "\n",
    "# def area_circle(radius):\n",
    "#     return math.pi * radius ** 2\n",
    "\n",
    "# def area_cone(radius, slant_height):\n",
    "#     return math.pi * radius * (radius + slant_height)\n",
    "\n",
    "\n",
    "import shape\n",
    "\n",
    "print(\"Triangle Area:\", shape.area_triangle(10, 5))\n",
    "print(\"Rectangle Area:\", shape.area_rectangle(8, 4))\n",
    "print(\"Circle Area:\", shape.area_circle(7))\n",
    "print(\"Cone Area:\", shape.area_cone(3, 5))\n"
   ]
  },
  {
   "cell_type": "code",
   "execution_count": null,
   "id": "0527fb93-a44c-48ae-b720-850da189c321",
   "metadata": {},
   "outputs": [],
   "source": []
  },
  {
   "cell_type": "code",
   "execution_count": null,
   "id": "338956ca-869e-4106-baa2-d779a6dc303b",
   "metadata": {},
   "outputs": [],
   "source": []
  },
  {
   "cell_type": "code",
   "execution_count": null,
   "id": "d97101f0-39af-411d-ac2e-6cd455eeb8a3",
   "metadata": {},
   "outputs": [],
   "source": []
  },
  {
   "cell_type": "code",
   "execution_count": 32,
   "id": "7debd0fe-911c-457a-96b6-65d3d944432a",
   "metadata": {},
   "outputs": [],
   "source": [
    "# ASSIGHNMENT2"
   ]
  },
  {
   "cell_type": "code",
   "execution_count": 22,
   "id": "5240ab8e-4dd4-40eb-b300-9ad504b2864b",
   "metadata": {},
   "outputs": [
    {
     "name": "stdin",
     "output_type": "stream",
     "text": [
      "-->  1\n",
      "-->  1\n"
     ]
    },
    {
     "name": "stdout",
     "output_type": "stream",
     "text": [
      "2\n"
     ]
    }
   ],
   "source": [
    "a=int(input(\"--> \"))\n",
    "b=int(input(\"--> \"))\n",
    "add=lambda x,y:x+y\n",
    "print(add(a,b))"
   ]
  },
  {
   "cell_type": "code",
   "execution_count": 25,
   "id": "e8f1a480-8609-4823-b04e-f9bb666e532c",
   "metadata": {},
   "outputs": [
    {
     "name": "stdin",
     "output_type": "stream",
     "text": [
      "-->  2\n"
     ]
    },
    {
     "name": "stdout",
     "output_type": "stream",
     "text": [
      "True\n"
     ]
    }
   ],
   "source": [
    "a=int(input(\"--> \"))\n",
    "is_even=lambda x:x%2==0\n",
    "print(is_even(a))"
   ]
  },
  {
   "cell_type": "code",
   "execution_count": 28,
   "id": "c36e5959-16e9-46b6-b6a5-c6e0dbaa9063",
   "metadata": {},
   "outputs": [
    {
     "name": "stdin",
     "output_type": "stream",
     "text": [
      "-->  5\n"
     ]
    },
    {
     "name": "stdout",
     "output_type": "stream",
     "text": [
      "120\n"
     ]
    }
   ],
   "source": [
    "from functools import reduce\n",
    "a=int(input(\"--> \"))\n",
    "fact=lambda n: 1 if n<2 else reduce(lambda x,y:x*y , range(1,n+1))\n",
    "print(fact(a))"
   ]
  },
  {
   "cell_type": "code",
   "execution_count": 31,
   "id": "b75e2581-f89e-4303-8f01-67630aee24f1",
   "metadata": {},
   "outputs": [
    {
     "name": "stdin",
     "output_type": "stream",
     "text": [
      "---->  1 2 3\n"
     ]
    },
    {
     "name": "stdout",
     "output_type": "stream",
     "text": [
      "3\n"
     ]
    }
   ],
   "source": [
    "lst=list(map(int,input(\"----> \").split()))\n",
    "maxx=lambda x:max(lst)\n",
    "print(maxx(lst))"
   ]
  },
  {
   "cell_type": "code",
   "execution_count": 125,
   "id": "527e1e9c-bd73-4581-8d31-35c584537fdd",
   "metadata": {},
   "outputs": [
    {
     "name": "stdin",
     "output_type": "stream",
     "text": [
      "-->  asa\n"
     ]
    },
    {
     "name": "stdout",
     "output_type": "stream",
     "text": [
      "True\n"
     ]
    }
   ],
   "source": [
    "s=input(\"--> \")\n",
    "\n",
    "is_palindrom=lambda x: x==x[::-1]\n",
    "print(is_palindrom(s))"
   ]
  },
  {
   "cell_type": "code",
   "execution_count": 33,
   "id": "64b63314-208b-4343-b83f-9dea414ca63e",
   "metadata": {},
   "outputs": [
    {
     "name": "stdin",
     "output_type": "stream",
     "text": [
      "--> bb aa kk cc aaa\n"
     ]
    },
    {
     "name": "stdout",
     "output_type": "stream",
     "text": [
      "['aa', 'aaa', 'bb', 'cc', 'kk']\n"
     ]
    }
   ],
   "source": [
    "lst=input(\"-->\").split()\n",
    "store=lambda x:sorted(x)\n",
    "print(store(lst))"
   ]
  },
  {
   "cell_type": "code",
   "execution_count": 34,
   "id": "eefd8379-2eac-420f-9d8f-867900d3389c",
   "metadata": {},
   "outputs": [
    {
     "name": "stdin",
     "output_type": "stream",
     "text": [
      "-->  2\n",
      "-->  2\n"
     ]
    },
    {
     "name": "stdout",
     "output_type": "stream",
     "text": [
      "2.0\n"
     ]
    }
   ],
   "source": [
    "a=int(input(\"--> \"))\n",
    "b=int(input(\"--> \"))\n",
    "area_of_trangel=lambda x,y:0.5*x*y\n",
    "print(area_of_trangel(a,b))"
   ]
  },
  {
   "cell_type": "code",
   "execution_count": 38,
   "id": "476caab8-c3cd-4948-be23-c20afd97489a",
   "metadata": {},
   "outputs": [
    {
     "name": "stdin",
     "output_type": "stream",
     "text": [
      "--->  1 2 3\n",
      "--->  1 2\n"
     ]
    },
    {
     "name": "stdout",
     "output_type": "stream",
     "text": [
      "True\n"
     ]
    }
   ],
   "source": [
    "b=input(\"---> \").split()\n",
    "s=input(\"---> \").split()\n",
    "\n",
    "is_sub_list=lambda b,s:any( s==b[i:len(s)] for i in range(len(b)-len(s)+1))\n",
    "\n",
    "print(is_sub_list(b,s))"
   ]
  },
  {
   "cell_type": "code",
   "execution_count": 40,
   "id": "31a9ea60-f454-43a9-a345-b0ca292c6133",
   "metadata": {},
   "outputs": [
    {
     "name": "stdin",
     "output_type": "stream",
     "text": [
      "-->  2\n",
      "-->  2\n"
     ]
    },
    {
     "name": "stdout",
     "output_type": "stream",
     "text": [
      "4\n"
     ]
    }
   ],
   "source": [
    "def powerr(x):\n",
    "    return lambda y:x*y\n",
    "\n",
    "a=int(input(\"--> \"))\n",
    "b=int(input(\"--> \"))\n",
    "print(powerr(a)(b))"
   ]
  },
  {
   "cell_type": "code",
   "execution_count": 41,
   "id": "4fb1f519-2e88-4336-8030-964e22a1d467",
   "metadata": {},
   "outputs": [
    {
     "name": "stdin",
     "output_type": "stream",
     "text": [
      "--->  asa\n"
     ]
    },
    {
     "name": "stdout",
     "output_type": "stream",
     "text": [
      "True\n"
     ]
    }
   ],
   "source": [
    "def is_pal():\n",
    "    return lambda x:x==x[::-1]\n",
    "\n",
    "s=input(\"---> \")\n",
    "print(is_pal()(s))"
   ]
  },
  {
   "cell_type": "code",
   "execution_count": 46,
   "id": "a0864a30-51f8-46fb-93ba-cb0a4ad5bbef",
   "metadata": {},
   "outputs": [
    {
     "name": "stdin",
     "output_type": "stream",
     "text": [
      "-->  2\n",
      "-->  2\n"
     ]
    },
    {
     "name": "stdout",
     "output_type": "stream",
     "text": [
      "2.8284271247461903\n"
     ]
    }
   ],
   "source": [
    "import math\n",
    "def hypotenusFinder(a):\n",
    "    return lambda b: math.sqrt(a**2+b**2)\n",
    "\n",
    "\n",
    "a=int(input(\"--> \"))\n",
    "b=int(input(\"--> \"))\n",
    "print(hypotenusFinder(a)(b))"
   ]
  },
  {
   "cell_type": "code",
   "execution_count": null,
   "id": "ca6c6c12-6a4c-465d-a1a1-cbedce95a802",
   "metadata": {},
   "outputs": [],
   "source": []
  },
  {
   "cell_type": "code",
   "execution_count": null,
   "id": "fb977212-e9b5-4fba-aff4-5cf287092579",
   "metadata": {},
   "outputs": [],
   "source": []
  },
  {
   "cell_type": "code",
   "execution_count": 47,
   "id": "9d194b1e-c166-47bb-a90d-ee5c58a13cd6",
   "metadata": {},
   "outputs": [],
   "source": [
    "# ASSIGHNMENT3"
   ]
  },
  {
   "cell_type": "code",
   "execution_count": 52,
   "id": "30f259c9-f2a5-4905-98c2-d61670b0fa22",
   "metadata": {},
   "outputs": [
    {
     "name": "stdin",
     "output_type": "stream",
     "text": [
      "-->  99\n"
     ]
    },
    {
     "name": "stdout",
     "output_type": "stream",
     "text": [
      "garram haii garaam hai\n"
     ]
    }
   ],
   "source": [
    "def temprature_match(temp):\n",
    "    if temp >30:\n",
    "        return \"garram haii garaam hai\"\n",
    "    elif 20<=temp & temp<=30:\n",
    "        return \"fkkk benstroke\"\n",
    "    else:\n",
    "        return \"ataa kassaa watetyy \"\n",
    "\n",
    "a=int(input(\"--> \"))\n",
    "print(temprature_match(a))"
   ]
  },
  {
   "cell_type": "code",
   "execution_count": 72,
   "id": "df8a4091-af87-4a87-8430-3bda24874e0f",
   "metadata": {},
   "outputs": [
    {
     "name": "stdin",
     "output_type": "stream",
     "text": [
      "-->  2003-4-19\n"
     ]
    },
    {
     "name": "stdout",
     "output_type": "stream",
     "text": [
      "nikal bkl\n"
     ]
    }
   ],
   "source": [
    "def date_match(y,m,d):\n",
    "    def leap(y):\n",
    "        return (y%4==0 and y%100!=0) or (y%400==0)\n",
    "        \n",
    "    if leap(y):\n",
    "        return \"mtf this is leap year\"\n",
    "    elif m==12 and d==25:\n",
    "        return \"jingal bellwaa\"\n",
    "    else:\n",
    "        return \"nikal bkl\"\n",
    "\n",
    "    \n",
    "y,m,d=map(int,input(\"--> \").split(\"-\"))\n",
    "print(date_match(y,m,d))"
   ]
  },
  {
   "cell_type": "code",
   "execution_count": 73,
   "id": "5c5b7609-30c9-4d36-ac3b-2d8d54d933aa",
   "metadata": {},
   "outputs": [
    {
     "name": "stdin",
     "output_type": "stream",
     "text": [
      "--> circle\n"
     ]
    },
    {
     "name": "stdout",
     "output_type": "stream",
     "text": [
      "golakar\n"
     ]
    }
   ],
   "source": [
    "def shape_match(s):\n",
    "    match s.lower():\n",
    "        case \"circle\":\n",
    "            return \"golakar\"\n",
    "        case \"square\":\n",
    "            return \"khokaa\"\n",
    "        case \"triangle\":\n",
    "            return \"3kon\"\n",
    "\n",
    "\n",
    "str=input(\"-->\")\n",
    "print(shape_match(str))"
   ]
  },
  {
   "cell_type": "code",
   "execution_count": 76,
   "id": "162cfdec-c8a0-457f-a4ae-c321413fb9e4",
   "metadata": {},
   "outputs": [
    {
     "name": "stdin",
     "output_type": "stream",
     "text": [
      "--> pythonnnnnnnnn\n"
     ]
    },
    {
     "name": "stdout",
     "output_type": "stream",
     "text": [
      "nagoba spoted\n"
     ]
    }
   ],
   "source": [
    "s=input(\"-->\").lower()\n",
    "\n",
    "if(s[0] in 'aeiou'):\n",
    "    print(\"aeiou fond\")\n",
    "elif(s[-1].isdigit()):\n",
    "    print(\"number spoted\")\n",
    "elif ('python' in s):\n",
    "    print(\"nagoba spoted\")\n",
    "else:\n",
    "    print(\"rikamtekdi\")"
   ]
  },
  {
   "cell_type": "code",
   "execution_count": 82,
   "id": "82d757b5-ff45-461a-abe5-31f2faaf1c30",
   "metadata": {},
   "outputs": [
    {
     "name": "stdin",
     "output_type": "stream",
     "text": [
      "---->  1 2 3 3 4 4 4 4\n"
     ]
    },
    {
     "name": "stdout",
     "output_type": "stream",
     "text": [
      "4\n"
     ]
    }
   ],
   "source": [
    "from collections import Counter\n",
    "\n",
    "def mode_finder(lst):\n",
    "    return max(Counter(lst).items(),key=lambda x: x[1])[0]\n",
    "\n",
    "lst=list(map(int,input(\"----> \").split()))\n",
    "print(mode_finder(lst))"
   ]
  },
  {
   "cell_type": "code",
   "execution_count": 86,
   "id": "198711f0-dd07-4ce3-ab77-d283a5d21c98",
   "metadata": {},
   "outputs": [
    {
     "name": "stdin",
     "output_type": "stream",
     "text": [
      "-->  chala ja bsdk\n"
     ]
    },
    {
     "name": "stdout",
     "output_type": "stream",
     "text": [
      "bsdk ja chala\n"
     ]
    }
   ],
   "source": [
    "def sentence_reversell(s):\n",
    "    return ' '.join(reversed(s.split(\" \")))\n",
    "\n",
    "s=input(\"--> \")\n",
    "print(sentence_reversell(s))"
   ]
  },
  {
   "cell_type": "code",
   "execution_count": 93,
   "id": "34f02939-4af0-4fb5-a967-14b092025a25",
   "metadata": {},
   "outputs": [
    {
     "name": "stdin",
     "output_type": "stream",
     "text": [
      "-->  2\n"
     ]
    },
    {
     "data": {
      "text/plain": [
       "12.566370614359172"
      ]
     },
     "execution_count": 93,
     "metadata": {},
     "output_type": "execute_result"
    }
   ],
   "source": [
    "def make_circumference():\n",
    "    def circumference(r):\n",
    "        return 2*math.pi*r\n",
    "    return circumference\n",
    "\n",
    "a=int(input(\"--> \"))\n",
    "make_circumference()(a)"
   ]
  },
  {
   "cell_type": "code",
   "execution_count": 99,
   "id": "ea75e424-2a4a-4b8c-be12-a04b66d7def6",
   "metadata": {},
   "outputs": [
    {
     "name": "stdin",
     "output_type": "stream",
     "text": [
      "-->  5\n"
     ]
    },
    {
     "name": "stdout",
     "output_type": "stream",
     "text": [
      "[1, 3, 6, 10, 15]\n",
      "[1, 9, 36, 100, 225]\n"
     ]
    }
   ],
   "source": [
    "def tingu(n,fn):\n",
    "    t=[i*(i+1)//2 for i in range(1,n+1)]\n",
    "    print(t)\n",
    "    return list(map(fn,t))\n",
    "    \n",
    "a=int(input(\"--> \"))\n",
    "print(tingu(a,lambda x:x**2))"
   ]
  },
  {
   "cell_type": "code",
   "execution_count": null,
   "id": "272a5821-4fd4-455a-9a64-cb7b17920763",
   "metadata": {},
   "outputs": [],
   "source": []
  },
  {
   "cell_type": "code",
   "execution_count": null,
   "id": "76fcf587-791b-4637-97db-886272eec47f",
   "metadata": {},
   "outputs": [],
   "source": []
  },
  {
   "cell_type": "code",
   "execution_count": 100,
   "id": "e669e36b-7769-49f5-b748-c995ce2c0782",
   "metadata": {},
   "outputs": [],
   "source": [
    "# ASSIGHNMENT4"
   ]
  },
  {
   "cell_type": "code",
   "execution_count": 102,
   "id": "462f0817-66c9-4ee6-ae27-7af2230894df",
   "metadata": {},
   "outputs": [
    {
     "name": "stdin",
     "output_type": "stream",
     "text": [
      "-->  5\n"
     ]
    },
    {
     "data": {
      "text/plain": [
       "120"
      ]
     },
     "execution_count": 102,
     "metadata": {},
     "output_type": "execute_result"
    }
   ],
   "source": [
    "def factorial(n):\n",
    "    if n<=1:\n",
    "        return 1\n",
    "    return n*factorial(n-1)\n",
    "\n",
    "a=int(input(\"--> \"))\n",
    "factorial(a)"
   ]
  },
  {
   "cell_type": "code",
   "execution_count": 106,
   "id": "27ce95a5-49e3-4165-9238-d9e4f76e9990",
   "metadata": {},
   "outputs": [
    {
     "name": "stdin",
     "output_type": "stream",
     "text": [
      "--->  1 2 3 4\n",
      "k-->  2 \n"
     ]
    },
    {
     "name": "stdout",
     "output_type": "stream",
     "text": [
      "1->2->3->4->none\n",
      "1->3->4->none\n"
     ]
    }
   ],
   "source": [
    "class Node:\n",
    "    def __init__(self,val=0,next=None):\n",
    "        self.val,self.next=val,next\n",
    "\n",
    "\n",
    "def delete_k(head,k):\n",
    "    if not head:\n",
    "        return None\n",
    "    elif k==1:\n",
    "        return head.next\n",
    "    head.next=delete_k(head.next,k-1)\n",
    "    return head\n",
    "\n",
    "def print_ll(head):\n",
    "    if not head:\n",
    "        print(\"none\")\n",
    "        return\n",
    "    print(head.val,end=\"->\")\n",
    "    print_ll(head.next)\n",
    "\n",
    "\n",
    "values=list(map(int,input(\"---> \").split()))\n",
    "n=len(values)\n",
    "k=int(input(\"k--> \"))\n",
    "head=Node(values[0])\n",
    "cur=head\n",
    "for val in values[1:]:\n",
    "    cur.next=Node(val)\n",
    "    cur=cur.next\n",
    "    \n",
    "print_ll(head)\n",
    "\n",
    "delete_k(head,k)\n",
    "print_ll(head)"
   ]
  },
  {
   "cell_type": "code",
   "execution_count": 108,
   "id": "e7856bbf-6900-4d59-bec0-d53efaf9109e",
   "metadata": {},
   "outputs": [
    {
     "name": "stdin",
     "output_type": "stream",
     "text": [
      "Enter list elements:  1 2 3 4 5\n",
      "Enter target sum:  7\n"
     ]
    },
    {
     "name": "stdout",
     "output_type": "stream",
     "text": [
      "Combinations that sum to target:\n",
      "[1, 2, 4]\n",
      "[2, 5]\n",
      "[3, 4]\n",
      "[3, 4]\n"
     ]
    }
   ],
   "source": [
    "def find_combinations(arr, target):\n",
    "    result = []\n",
    "    arr.sort()\n",
    "\n",
    "    def backtrack(start, path, total):\n",
    "        if total == target:\n",
    "            result.append(path)\n",
    "            return\n",
    "        if total > target:\n",
    "            return\n",
    "        for i in range(start, len(arr)):\n",
    "            if i > start and arr[i] == arr[i - 1]:  # Skip duplicates\n",
    "                continue\n",
    "            backtrack(i + 1, path + [arr[i]], total + arr[i])\n",
    "\n",
    "    backtrack(0, [], 0)\n",
    "    return result\n",
    "\n",
    "arr = list(map(int, input(\"Enter list elements: \").split()))\n",
    "target = int(input(\"Enter target sum: \"))\n",
    "\n",
    "combinations = find_combinations(arr, target)\n",
    "print(\"Combinations that sum to target:\")\n",
    "for combo in combinations:\n",
    "    print(combo)\n",
    "\n",
    "print(combo)"
   ]
  },
  {
   "cell_type": "code",
   "execution_count": null,
   "id": "353ce67a-6496-4d67-9a30-20fb94f09bfe",
   "metadata": {},
   "outputs": [],
   "source": []
  },
  {
   "cell_type": "code",
   "execution_count": null,
   "id": "e2fe92e9-5003-42a1-8c04-b104336b9d41",
   "metadata": {},
   "outputs": [],
   "source": []
  },
  {
   "cell_type": "code",
   "execution_count": 109,
   "id": "acde4d0c-e611-4831-b092-4eba0a1d72d7",
   "metadata": {},
   "outputs": [],
   "source": [
    "# ASSIGHNMENT5"
   ]
  },
  {
   "cell_type": "code",
   "execution_count": 110,
   "id": "7ef4cbe9-1509-4376-85a9-4193e368cbc9",
   "metadata": {},
   "outputs": [
    {
     "ename": "SyntaxError",
     "evalue": "invalid syntax. Perhaps you forgot a comma? (795576674.py, line 2)",
     "output_type": "error",
     "traceback": [
      "\u001b[1;36m  Cell \u001b[1;32mIn[110], line 2\u001b[1;36m\u001b[0m\n\u001b[1;33m    let a = 0, b = 1, count = 0;\u001b[0m\n\u001b[1;37m    ^\u001b[0m\n\u001b[1;31mSyntaxError\u001b[0m\u001b[1;31m:\u001b[0m invalid syntax. Perhaps you forgot a comma?\n"
     ]
    }
   ],
   "source": [
    "function* fibonacci(limit) {\n",
    "  let a = 0, b = 1, count = 0;\n",
    "  while (count < limit) {\n",
    "    yield a;\n",
    "    [a, b] = [b, a + b];\n",
    "    count++;\n",
    "  }\n",
    "}\n",
    "\n",
    "// Test the generator\n",
    "for (let num of fibonacci(10)) {\n",
    "  console.log(num);\n",
    "}"
   ]
  },
  {
   "cell_type": "code",
   "execution_count": 111,
   "id": "603af565-1e70-4db3-839d-9b351a1f6d9d",
   "metadata": {},
   "outputs": [
    {
     "name": "stdin",
     "output_type": "stream",
     "text": [
      "-->  1 2 3\n"
     ]
    },
    {
     "name": "stdout",
     "output_type": "stream",
     "text": [
      "(1,)\n",
      "(2,)\n",
      "(3,)\n",
      "(1, 2)\n",
      "(1, 3)\n",
      "(2, 3)\n",
      "(1, 2, 3)\n"
     ]
    }
   ],
   "source": [
    "from itertools import combinations\n",
    "\n",
    "lst=list(map(int,input(\"--> \").split()))\n",
    "\n",
    "for r in range(1,len(lst)+1):\n",
    "    for i in combinations(lst,r):\n",
    "        print(i)"
   ]
  },
  {
   "cell_type": "code",
   "execution_count": 116,
   "id": "f48fe2b4-cb72-4457-8874-c8f5c1718958",
   "metadata": {},
   "outputs": [
    {
     "name": "stdin",
     "output_type": "stream",
     "text": [
      "-->  bob boka thoka dhoka\n",
      "-->  bo\n"
     ]
    },
    {
     "name": "stdout",
     "output_type": "stream",
     "text": [
      "bob\n",
      "boka\n"
     ]
    }
   ],
   "source": [
    "def filter_name(s,ss):\n",
    "    for i in s:\n",
    "        if ss in i:\n",
    "            yield i\n",
    "\n",
    "lst=input(\"--> \").split()\n",
    "subs=input(\"--> \")\n",
    "op=filter_name(lst,subs)\n",
    "for name in op:\n",
    "    print(name)"
   ]
  },
  {
   "cell_type": "code",
   "execution_count": 118,
   "id": "014ddef1-500e-48d8-926a-69199f6f46b0",
   "metadata": {},
   "outputs": [
    {
     "name": "stdin",
     "output_type": "stream",
     "text": [
      "-->  1 2 3 4\n"
     ]
    },
    {
     "name": "stdout",
     "output_type": "stream",
     "text": [
      "[1, 4, 9, 16]\n"
     ]
    }
   ],
   "source": [
    "lst=list(map(int,input(\"--> \").split()))\n",
    "nlst=list(map(lambda x : x**2,lst))\n",
    "print(nlst)"
   ]
  },
  {
   "cell_type": "code",
   "execution_count": 120,
   "id": "96bdd9c4-3e31-4414-80d7-3e854e4ebd29",
   "metadata": {},
   "outputs": [
    {
     "name": "stdin",
     "output_type": "stream",
     "text": [
      "-->  pune dholakpurr cmd  ganjapurrr\n"
     ]
    },
    {
     "name": "stdout",
     "output_type": "stream",
     "text": [
      "['dholakpurr', 'ganjapurrr']\n"
     ]
    }
   ],
   "source": [
    "contris=input(\"--> \").split()\n",
    "filerdData=list(filter(lambda x:len(x)>=6,contris))\n",
    "print(filerdData)"
   ]
  },
  {
   "cell_type": "code",
   "execution_count": 121,
   "id": "5e279169-4023-48ef-80de-963c21fd7aa7",
   "metadata": {},
   "outputs": [
    {
     "name": "stdin",
     "output_type": "stream",
     "text": [
      "-->  egypt englad pune\n"
     ]
    },
    {
     "name": "stdout",
     "output_type": "stream",
     "text": [
      "['egypt', 'englad']\n"
     ]
    }
   ],
   "source": [
    "contris=input(\"--> \").split()\n",
    "filerdData=list(filter(lambda x:x[0].lower()==\"e\",contris))\n",
    "print(filerdData)"
   ]
  },
  {
   "cell_type": "code",
   "execution_count": 1,
   "id": "cb5212a8-8ea6-4b19-a221-94b685caf141",
   "metadata": {},
   "outputs": [
    {
     "name": "stdout",
     "output_type": "stream",
     "text": [
      "['a']\n"
     ]
    }
   ],
   "source": [
    "def get_string(s):\n",
    "    return list(filter(lambda x:isinstance(x, str),s))\n",
    "\n",
    "\n",
    "lst=['a',True,21]\n",
    "print(get_string(lst))"
   ]
  },
  {
   "cell_type": "code",
   "execution_count": 2,
   "id": "15f0b777-d9cc-4c03-9e14-e6734ac04e62",
   "metadata": {},
   "outputs": [
    {
     "name": "stdin",
     "output_type": "stream",
     "text": [
      "-->  5\n"
     ]
    },
    {
     "name": "stdout",
     "output_type": "stream",
     "text": [
      "0\n",
      "1\n",
      "1\n",
      "2\n",
      "3\n"
     ]
    }
   ],
   "source": [
    "def fibgen(n):\n",
    "    a,b=0,1\n",
    "    for _ in range(1,n+1):\n",
    "        yield a\n",
    "        a,b=b,a+b\n",
    "\n",
    "\n",
    "n=int(input(\"--> \"))\n",
    "for num in fibgen(n):\n",
    "    print(num)"
   ]
  },
  {
   "cell_type": "code",
   "execution_count": null,
   "id": "23ed1b28-a3fa-4208-a1a6-98ee8649cd50",
   "metadata": {},
   "outputs": [],
   "source": []
  }
 ],
 "metadata": {
  "kernelspec": {
   "display_name": "Python 3 (ipykernel)",
   "language": "python",
   "name": "python3"
  },
  "language_info": {
   "codemirror_mode": {
    "name": "ipython",
    "version": 3
   },
   "file_extension": ".py",
   "mimetype": "text/x-python",
   "name": "python",
   "nbconvert_exporter": "python",
   "pygments_lexer": "ipython3",
   "version": "3.11.3"
  }
 },
 "nbformat": 4,
 "nbformat_minor": 5
}
